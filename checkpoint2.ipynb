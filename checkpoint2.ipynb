{
 "cells": [
  {
   "cell_type": "markdown",
   "metadata": {},
   "source": [
    "question 1: Write a Python program which accepts the user's first and last name and print them in \n",
    "    reverse order with a space between them."
   ]
  },
  {
   "cell_type": "code",
   "execution_count": null,
   "metadata": {},
   "outputs": [],
   "source": [
    "def reverse (first, last):\n",
    " return (last +' '+ first)\n",
    "reverse (\"farah\",\"khemakhem\")"
   ]
  },
  {
   "cell_type": "markdown",
   "metadata": {},
   "source": [
    "question 2: Write a Python program that accepts an integer (n) and computes the value of n+nn+nnn\n",
    "Sample value of n is 5 \n",
    "Expected Result : 615 (5+55+555)\n"
   ]
  },
  {
   "cell_type": "code",
   "execution_count": null,
   "metadata": {},
   "outputs": [],
   "source": [
    "n= input(\"write an integer\")\n",
    "print(int(n)+int(n+n)+int(n+n+n))\n"
   ]
  },
  {
   "cell_type": "markdown",
   "metadata": {},
   "source": [
    "question 3: Écrire un programme Python pour trouver si un nombre donné (accepté par l'utilisateur) est pair ou impair, imprimer \n",
    "                                                            un message approprié à l'utilisateur.\n"
   ]
  },
  {
   "cell_type": "code",
   "execution_count": 9,
   "metadata": {},
   "outputs": [
    {
     "name": "stdout",
     "output_type": "stream",
     "text": [
      "entrer le nombre5\n",
      " le nombre est impair\n"
     ]
    }
   ],
   "source": [
    "i= int(input(\"entrer le nombre\"))\n",
    "if i%2 == 0:\n",
    "    i=i+1\n",
    "    print (\"le nombre est pair\")\n",
    "else:\n",
    "    print(\" le nombre est impair\")\n",
    "    \n"
   ]
  },
  {
   "cell_type": "markdown",
   "metadata": {},
   "source": [
    "Q 4: Write a program which will find all such numbers which are divisible by 7 but are not a multiple of 5, between 2000 and 3200 \n",
    "(both included). \n",
    "The numbers obtained should be printed in a sequence on a single line."
   ]
  },
  {
   "cell_type": "code",
   "execution_count": 34,
   "metadata": {},
   "outputs": [
    {
     "name": "stdout",
     "output_type": "stream",
     "text": [
      "2002,2009,2016,2023,2037,2044,2051,2058,2072,2079,2086,2093,2107,2114,2121,2128,2142,2149,2156,2163,2177,2184,2191,2198,2212,2219,2226,2233,2247,2254,2261,2268,2282,2289,2296,2303,2317,2324,2331,2338,2352,2359,2366,2373,2387,2394,2401,2408,2422,2429,2436,2443,2457,2464,2471,2478,2492,2499,2506,2513,2527,2534,2541,2548,2562,2569,2576,2583,2597,2604,2611,2618,2632,2639,2646,2653,2667,2674,2681,2688,2702,2709,2716,2723,2737,2744,2751,2758,2772,2779,2786,2793,2807,2814,2821,2828,2842,2849,2856,2863,2877,2884,2891,2898,2912,2919,2926,2933,2947,2954,2961,2968,2982,2989,2996,3003,3017,3024,3031,3038,3052,3059,3066,3073,3087,3094,3101,3108,3122,3129,3136,3143,3157,3164,3171,3178,3192,3199,\b\n"
     ]
    }
   ],
   "source": [
    "for i in range (2000, 3201):\n",
    "    if i%7==0 and i%5!=0:\n",
    "         print(i,end=',')\n",
    "print(\"\\b\")"
   ]
  },
  {
   "cell_type": "markdown",
   "metadata": {},
   "source": [
    "Q 5: Ecrire un programme qui peut calculer la factorielle d'un nombre donné. Les résultats doivent être imprimés en séquence sur \n",
    "une seule ligne. Supposons que l'entrée suivante soit fournie au programme : 8 Ensuite, la sortie devrait être : 40320 "
   ]
  },
  {
   "cell_type": "code",
   "execution_count": 40,
   "metadata": {},
   "outputs": [
    {
     "name": "stdout",
     "output_type": "stream",
     "text": [
      "8\n",
      "40320\n"
     ]
    }
   ],
   "source": [
    "n = int(input()) \n",
    "g = 1\n",
    "for i in range(1,n+1):\n",
    "    g = g * i\n",
    "print(g)"
   ]
  },
  {
   "cell_type": "markdown",
   "metadata": {},
   "source": [
    "Q 6 : Écrivez un programme pour supprimer les caractères qui ont des valeurs d'index impaires d'une chaîne donnée.\n",
    "\n",
    "par exemple : chaîne = \"hello team\" (équipe de salut)\n",
    "\n",
    "Le résultat devrait être : hlota"
   ]
  },
  {
   "cell_type": "code",
   "execution_count": 62,
   "metadata": {},
   "outputs": [
    {
     "name": "stdout",
     "output_type": "stream",
     "text": [
      "farah khemakhem\n",
      "frhkeahm\n"
     ]
    }
   ],
   "source": [
    "def odd_values_string(str):\n",
    "  result = \"\" \n",
    "  for i in range(len(str)):\n",
    "    if i % 2 == 0:\n",
    "      result = result + str[i]\n",
    "  return result\n",
    "\n",
    "print(odd_values_string (input(\"\")))\n"
   ]
  },
  {
   "cell_type": "markdown",
   "metadata": {},
   "source": [
    "Q7: In this challenge, you must discount a price according to its value.\n",
    "\n",
    "- If the price is 500 or above, there will be a 50% discount.\n",
    "\n",
    "- If the price is between 200 and 500 (200 inclusive), there will be a 30% discount.\n",
    "\n",
    "- If the price is less than 200, there will be a 10% discount."
   ]
  },
  {
   "cell_type": "code",
   "execution_count": 70,
   "metadata": {},
   "outputs": [
    {
     "name": "stdout",
     "output_type": "stream",
     "text": [
      "enter the price : 300\n",
      "30% discount\n"
     ]
    }
   ],
   "source": [
    "p= int (input (\"enter the price : \"))\n",
    "if p >= 500:\n",
    "    print (\"50% discount\")\n",
    "elif 200 <p< 500:\n",
    "    print (\"30% discount\")\n",
    "else :\n",
    "    print (\"10% discount\")"
   ]
  },
  {
   "cell_type": "markdown",
   "metadata": {},
   "source": [
    "Q 8: Write a program to check whether a given year is a leap year or not.\n",
    "\n",
    "hint: A leap year is exactly divisible by 4 except for century years (years ending with 00)."
   ]
  },
  {
   "cell_type": "code",
   "execution_count": 78,
   "metadata": {},
   "outputs": [
    {
     "name": "stdout",
     "output_type": "stream",
     "text": [
      "enter the year : 2005\n",
      "not a leap year\n"
     ]
    }
   ],
   "source": [
    "year= int (input (\"enter the year : \"))\n",
    "if year % 4==0:\n",
    "    print(\"leap year\")\n",
    "else:\n",
    "    print (\"not a leap year\")\n",
    "      "
   ]
  }
 ],
 "metadata": {
  "kernelspec": {
   "display_name": "Python 3",
   "language": "python",
   "name": "python3"
  },
  "language_info": {
   "codemirror_mode": {
    "name": "ipython",
    "version": 3
   },
   "file_extension": ".py",
   "mimetype": "text/x-python",
   "name": "python",
   "nbconvert_exporter": "python",
   "pygments_lexer": "ipython3",
   "version": "3.8.3"
  }
 },
 "nbformat": 4,
 "nbformat_minor": 4
}
